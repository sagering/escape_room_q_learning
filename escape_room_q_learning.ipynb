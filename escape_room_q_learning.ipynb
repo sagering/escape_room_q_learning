{
 "cells": [
  {
   "cell_type": "code",
   "execution_count": 1,
   "metadata": {},
   "outputs": [],
   "source": [
    "import numpy as np\n",
    "import matplotlib.pyplot as plt\n",
    "import seaborn as sns\n",
    "from IPython.display import clear_output\n",
    "import time\n",
    "\n",
    "class Environment:\n",
    "    \"\"\"Escape Room Environment, Actions: press (0), left (1), right(2) \"\"\"\n",
    "\n",
    "    def __init__(self):\n",
    "        self.pos = np.random.randint(10)\n",
    "        self.door_open = 0\n",
    "\n",
    "        self.switch = 5\n",
    "        self.door = 9\n",
    "        \n",
    "    def get_state(self):\n",
    "        return (self.pos, self.door_open)\n",
    "    \n",
    "    def is_done(self):\n",
    "        return self.pos == self.door and self.door_open == 1\n",
    "    \n",
    "    def take_action(self, a):\n",
    "        if a == 0:\n",
    "            if self.pos == self.switch:\n",
    "                self.door_open = 1\n",
    "        if a == 1:\n",
    "            self.pos = max(0, self.pos - 1)\n",
    "        elif a == 2:\n",
    "            self.pos = min(9, self.pos + 1)\n",
    "\n",
    "        r = -1\n",
    "\n",
    "        if self.pos == self.door and self.door_open:\n",
    "            r = 1\n",
    "            \n",
    "        return r\n",
    "\n",
    "    def draw(self):\n",
    "        s = [' '] * 10\n",
    "        \n",
    "        s[self.switch] = \"㊙️\"\n",
    "        s[self.pos] = \"🤖\"\n",
    "        \n",
    "        if self.door_open == 1:\n",
    "            s[self.door] = \"🚪\"\n",
    "            \n",
    "        return ''.join(s)"
   ]
  },
  {
   "cell_type": "code",
   "execution_count": 2,
   "metadata": {},
   "outputs": [],
   "source": [
    "class Agent:\n",
    "    \"\"\" Agent with eps-greedy policy \"\"\"\n",
    "    \n",
    "    def __init__(self, eps):\n",
    "        self.eps = eps\n",
    "    \n",
    "    def pick_action(self, s, Q):\n",
    "        if np.random.uniform() <= self.eps:\n",
    "            return np.random.randint(Q.shape[-1])\n",
    "        else:\n",
    "            return np.argmax(Q[s])"
   ]
  },
  {
   "cell_type": "code",
   "execution_count": 3,
   "metadata": {},
   "outputs": [],
   "source": [
    "Q = np.random.uniform(size=(10, 2, 3))\n",
    "Q_last = Q.copy()\n",
    "\n",
    "lr = 0.1\n",
    "n_episodes = 10000\n",
    "gamma = 0.9\n",
    "\n",
    "deltas = []\n",
    "steps = []"
   ]
  },
  {
   "cell_type": "code",
   "execution_count": 4,
   "metadata": {},
   "outputs": [],
   "source": [
    "\"\"\" Q learning algorithm \"\"\"\n",
    "\n",
    "for i in range(n_episodes):\n",
    "    \n",
    "    env = Environment()\n",
    "    ag = Agent(0.5 * (n_episodes - i) / n_episodes)\n",
    "    \n",
    "    step = 0\n",
    "    \n",
    "    while not env.is_done():\n",
    "        s = env.get_state()\n",
    "        a = ag.pick_action(s, Q)\n",
    "        r = env.take_action(a)\n",
    "        \n",
    "        s_new = env.get_state()\n",
    "\n",
    "        Q[s][a] = Q[s][a] + lr * (r + gamma * np.max(Q[s_new]) - Q[s][a])\n",
    "        \n",
    "        step += 1\n",
    "        \n",
    "    steps.append(step)\n",
    "    deltas.append(np.linalg.norm(Q-Q_last))\n",
    "    Q_last = Q.copy()"
   ]
  },
  {
   "cell_type": "code",
   "execution_count": 5,
   "metadata": {},
   "outputs": [
    {
     "data": {
      "text/plain": [
       "[<matplotlib.lines.Line2D at 0x1b50dcbd588>]"
      ]
     },
     "execution_count": 5,
     "metadata": {},
     "output_type": "execute_result"
    },
    {
     "data": {
      "image/png": "[encoded data removed]",
      "text/plain": [
       "<Figure size 432x288 with 1 Axes>"
      ]
     },
     "metadata": {
      "needs_background": "light"
     },
     "output_type": "display_data"
    }
   ],
   "source": [
    "\"\"\" Visualize convergence of Q w.r.t. Frobenius norm \"\"\"\n",
    "\n",
    "plt.plot(deltas)"
   ]
  },
  {
   "cell_type": "code",
   "execution_count": 6,
   "metadata": {},
   "outputs": [
    {
     "data": {
      "text/plain": [
       "[<matplotlib.lines.Line2D at 0x1b50ed4fac8>]"
      ]
     },
     "execution_count": 6,
     "metadata": {},
     "output_type": "execute_result"
    },
    {
     "data": {
      "image/png": "[encoded data removed]",
      "text/plain": [
       "<Figure size 432x288 with 1 Axes>"
      ]
     },
     "metadata": {
      "needs_background": "light"
     },
     "output_type": "display_data"
    }
   ],
   "source": [
    "\"\"\" Number of time steps needed by agent to escape. \"\"\"\n",
    "\n",
    "plt.plot(steps)"
   ]
  },
  {
   "cell_type": "code",
   "execution_count": 7,
   "metadata": {},
   "outputs": [
    {
     "data": {
      "text/plain": [
       "[6, 9, 6, 5, 7, 5, 6, 8, 6, 7]"
      ]
     },
     "execution_count": 7,
     "metadata": {},
     "output_type": "execute_result"
    }
   ],
   "source": [
    "steps[-10:]"
   ]
  },
  {
   "cell_type": "code",
   "execution_count": 8,
   "metadata": {},
   "outputs": [
    {
     "data": {
      "text/plain": [
       "<matplotlib.axes._subplots.AxesSubplot at 0x1b50eddc0f0>"
      ]
     },
     "execution_count": 8,
     "metadata": {},
     "output_type": "execute_result"
    },
    {
     "data": {
      "image/png": "[encoded data removed]",
      "text/plain": [
       "<Figure size 432x288 with 2 Axes>"
      ]
     },
     "metadata": {
      "needs_background": "light"
     },
     "output_type": "display_data"
    }
   ],
   "source": [
    "\"\"\" Learned Q (door closed) \"\"\"\n",
    "\n",
    "sns.heatmap(Q[:,0,:])"
   ]
  },
  {
   "cell_type": "code",
   "execution_count": 9,
   "metadata": {},
   "outputs": [
    {
     "data": {
      "text/plain": [
       "<matplotlib.axes._subplots.AxesSubplot at 0x1b50eeb6240>"
      ]
     },
     "execution_count": 9,
     "metadata": {},
     "output_type": "execute_result"
    },
    {
     "data": {
      "image/png": "[encoded data removed]",
      "text/plain": [
       "<Figure size 432x288 with 2 Axes>"
      ]
     },
     "metadata": {
      "needs_background": "light"
     },
     "output_type": "display_data"
    }
   ],
   "source": [
    "\"\"\" Learned Q (door open) \"\"\"\n",
    "\n",
    "sns.heatmap(Q[:,1,:])"
   ]
  },
  {
   "cell_type": "code",
   "execution_count": 10,
   "metadata": {},
   "outputs": [
    {
     "name": "stdout",
     "output_type": "stream",
     "text": [
      "Episode: 9\n",
      "State:        ㊙️   🚪\n",
      "Action:  right\n"
     ]
    }
   ],
   "source": [
    "\"\"\" Apply learned policy to escape room environment (no learning) \"\"\"\n",
    "\n",
    "for i in range(10):\n",
    "    \n",
    "    env = Environment()\n",
    "    ag = Agent(0)\n",
    "    \n",
    "    while not env.is_done():\n",
    "        s = env.get_state()\n",
    "        a = ag.pick_action(s, Q)\n",
    "        r = env.take_action(a)\n",
    "        \n",
    "        clear_output(wait=True)\n",
    "        time.sleep(0.3)\n",
    "        \n",
    "        print(f\"Episode: {i}\")\n",
    "        print(f\"State:   {env.draw()}\")\n",
    "        print(f\"Action:  {['press', 'left', 'right'][a]}\")\n",
    "        \n",
    "    time.sleep(0.5)"
   ]
  },
  {
   "cell_type": "code",
   "execution_count": null,
   "metadata": {},
   "outputs": [],
   "source": []
  }
 ],
 "metadata": {
  "kernelspec": {
   "display_name": "Python 3",
   "language": "python",
   "name": "python3"
  },
  "language_info": {
   "codemirror_mode": {
    "name": "ipython",
    "version": 3
   },
   "file_extension": ".py",
   "mimetype": "text/x-python",
   "name": "python",
   "nbconvert_exporter": "python",
   "pygments_lexer": "ipython3",
   "version": "3.7.3"
  }
 },
 "nbformat": 4,
 "nbformat_minor": 2
}
